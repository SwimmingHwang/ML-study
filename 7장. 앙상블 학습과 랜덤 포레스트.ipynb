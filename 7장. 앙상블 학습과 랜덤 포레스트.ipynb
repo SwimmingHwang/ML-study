{
 "cells": [
  {
   "cell_type": "markdown",
   "metadata": {},
   "source": [
    "# 앙상블 학습과 랜덤 포레스트\n",
    "- **앙상블 학습 (ensemble learning)** : 일련의 예측기(즉, 분류나 회귀 모델)로부터 예측을 수집하면 가장 좋은 모델 하나보다 더 좋은 예측을 얻을 수 있다.   \n",
    "    이를 **앙상블 학습**이라 하며, 일련의 예측기를 **앙상블**이라고 한다.\n",
    "\n",
    "- **랜덤 포레스트** : 결정 트리의 앙상블 (모든 개별 트리의 예측을 구해 가장 많은 선택을 받은 클래스를 예측으로 선택)   \n",
    "    가장 강력한 머신러닝 알고리즘 중 하나\n",
    "    \n",
    "    \n",
    "- 앙상블 방법\n",
    "    - 배깅\n",
    "    - 부스팅\n",
    "    - 스태깅"
   ]
  },
  {
   "cell_type": "markdown",
   "metadata": {},
   "source": [
    "## 연습문제\n",
    "1. 정확히 같은 훈련 데이터로 다섯 개의 다른 모델을 훈련시켜서 모두 95% 정확도를 얻었다면 이 모델들을 연결하여 더 좋은 결과를 얻을 수 있을까요? 가능하다면 어떻게 해야 할까요? 그렇지 않다면 왜일까요?\n",
    "    - 투표 앙상블을 만들어 더 나은 결과를 기대할 수 있다. \n",
    "    - 만약 모델이 서로 다르다면 훨씬 좋다(SVM Classifier, Decision Tree Classifier, Logistic Regression Classifier)\n",
    "    - 만약 다른 훈련 샘플에서 훈련되었다면 더더욱 좋다 (배깅과 페이스팅 앙상블의 핵심)\n",
    "2. 직접 투표와 간접 투표 분류기 사이의 차이점은?\n",
    "    - 직접 투표 (harding voting) 분류기는 각 분류기의 예측을 모아서 가장 많이 선택된 클래스를 예측하는 것이고 간접 투표(soft voting) 분류기는 모든 분류기가 클래스의 확률을 예측할 수 있으면 개별 분류기의 예측을 평균 내어 확률이 가장 높은 클래스를 예측하는 것이다.\n",
    "    \n",
    "    \n",
    "    \n",
    "3. 배깅 앙상블 훈련을 여러 대의 서버에 분산시켜 속도를 높일 수 있을까요? 페이스팅 앙상블, 부스팅 앙상블, 랜덤 포레스트, 스태킹 앙상블의 경우는 어떨까요?\n",
    "4. oob 평가의 장점은 무엇인가요?\n",
    "5. 무엇이 엑스트라 트리를 일반 랜덤 포레스트보다 더 무작위하게 만드나요?\n",
    "\t추가적인 무작위성이 어떻게 도움이 될까요?\n",
    "\t엑스트라 트리는 일반 랜덤 포레스트보다 느릴까요? 빠를까요?\n",
    "6. 에이다부스트 앙상블이 훈련 데이터에 과소적합되었다면 어떤 매개변수를 어떻게 바꾸어야 할까요?\n",
    "7. 그레이디언트 부스팅 앙상블이 훈련 데이터에 과대적합되었다면 학습률을 높여야 할까요, 낮춰야 할까요?"
   ]
  },
  {
   "cell_type": "code",
   "execution_count": null,
   "metadata": {},
   "outputs": [],
   "source": []
  }
 ],
 "metadata": {
  "kernelspec": {
   "display_name": "Tensorflow-CPU",
   "language": "python",
   "name": "tf"
  },
  "language_info": {
   "codemirror_mode": {
    "name": "ipython",
    "version": 3
   },
   "file_extension": ".py",
   "mimetype": "text/x-python",
   "name": "python",
   "nbconvert_exporter": "python",
   "pygments_lexer": "ipython3",
   "version": "3.7.7"
  }
 },
 "nbformat": 4,
 "nbformat_minor": 1
}
